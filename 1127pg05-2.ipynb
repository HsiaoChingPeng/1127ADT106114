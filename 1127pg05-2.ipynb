{
 "cells": [
  {
   "cell_type": "code",
   "execution_count": 1,
   "metadata": {},
   "outputs": [],
   "source": [
    "import cv2\n",
    "\n",
    "face_cascade = cv2.CascadeClassifier('haarcascade_frontalface_default.xml')\n",
    "\n",
    "cap=cv2.VideoCapture(0)\n",
    "while True:\n",
    "    _, img=cap.read()\n",
    "\n",
    "    gray = cv2.cvtColor(img,cv2.COLOR_BGR2GRAY)\n",
    "\n",
    "    faces=face_cascade.detectMultiScale(gray,1.1,4)\n",
    "    \n",
    "    i=1\n",
    "    \n",
    "    for (x,y,w,h) in faces:\n",
    "        cv2.rectangle(img,(x,y),(x + w,y + h),(255,127,80),2)\n",
    "        crop_img=img[y:y+h,x:x+w]\n",
    "        cv2.imwrite(\"people\"+str(i)+\".png\",crop_img)\n",
    "        i=i+1\n",
    "\n",
    "        \n",
    "    cv2.namedWindow('FOUND',cv2.WINDOW_NORMAL)\n",
    "    cv2.imshow('FOUND',img)\n",
    "    if cv2.waitKey(30)==ord('s'):\n",
    "        cv2.imwrite(\"save.png\",img)\n",
    "        break\n",
    "    if cv2.waitKey(30)==ord('q'):\n",
    "        break\n",
    "cap.release()\n",
    "cv2.destroyAllWindows()"
   ]
  },
  {
   "cell_type": "code",
   "execution_count": 2,
   "metadata": {},
   "outputs": [
    {
     "name": "stdout",
     "output_type": "stream",
     "text": [
      "[[241 117 156 156]]\n",
      "AI found{0}people！ 1\n"
     ]
    }
   ],
   "source": [
    "print(faces)\n",
    "print('AI found{0}people！',format(len(faces)))"
   ]
  }
 ],
 "metadata": {
  "kernelspec": {
   "display_name": "Python 3",
   "language": "python",
   "name": "python3"
  },
  "language_info": {
   "codemirror_mode": {
    "name": "ipython",
    "version": 3
   },
   "file_extension": ".py",
   "mimetype": "text/x-python",
   "name": "python",
   "nbconvert_exporter": "python",
   "pygments_lexer": "ipython3",
   "version": "3.7.0"
  }
 },
 "nbformat": 4,
 "nbformat_minor": 2
}
